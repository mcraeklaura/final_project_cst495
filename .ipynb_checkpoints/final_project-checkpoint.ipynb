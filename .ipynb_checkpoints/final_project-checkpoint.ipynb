{
 "cells": [
  {
   "cell_type": "code",
   "execution_count": 1,
   "metadata": {
    "collapsed": true
   },
   "outputs": [],
   "source": [
    "import tensorflow\n",
    "from __future__ import division, print_function, unicode_literals"
   ]
  },
  {
   "cell_type": "markdown",
   "metadata": {},
   "source": [
    "# Introduction\n",
    "For our final project we are going to be using the CIFAR10 dataset. This dataset has 60000 color images that are divided into ten different classes: airplane, automobile, bird, cat, deer, dog, frog, horse, ship and truck. These images are 32x32 pixels and 50000 of them are dedicated as training images and 10,000 of them are for testing. Each of the classes has 5,000 images. The labels are numerical numbers 0-9 that represent the different classes.\n",
    "\n",
    "# Plan\n",
    "Our plan is to create a Convolutional Neural Network that can get the highest accuracy on the test set. Some of our concerns are if there are too many images for the computing power we have currently. There are many paid options we can utilize, but computing time is a concern with us.\n",
    "\n",
    "First, we are planning to try and putting our data into the regular mnist CNN we have been using in class. From there, we will make the necessary changes. Some of the things we want to look into is data augmentation and how creating new data objects from the images we already have would help training."
   ]
  },
  {
   "cell_type": "markdown",
   "metadata": {},
   "source": [
    "## Getting the data"
   ]
  },
  {
   "cell_type": "code",
   "execution_count": null,
   "metadata": {
    "collapsed": true
   },
   "outputs": [],
   "source": [
    "def unpickle(file):\n",
    "    import pickle\n",
    "    with open(file, 'rb') as fo:\n",
    "        dict = pickle.load(fo, encoding='bytes')\n",
    "    return dict\n",
    "\n",
    "dict = []\n",
    "files = [\"cifar-10-batches-py/data_batch_1\", \"cifar-10-batches-py/data_batch_2\", \"cifar-10-batches-py/data_batch_3\", \"cifar-10-batches-py/data_batch_4\", \"cifar-10-batches-py/data_batch_5\"]\n",
    "for i in []"
   ]
  }
 ],
 "metadata": {
  "kernelspec": {
   "display_name": "Python 2",
   "language": "python",
   "name": "python2"
  },
  "language_info": {
   "codemirror_mode": {
    "name": "ipython",
    "version": 2
   },
   "file_extension": ".py",
   "mimetype": "text/x-python",
   "name": "python",
   "nbconvert_exporter": "python",
   "pygments_lexer": "ipython2",
   "version": "2.7.13"
  }
 },
 "nbformat": 4,
 "nbformat_minor": 2
}
